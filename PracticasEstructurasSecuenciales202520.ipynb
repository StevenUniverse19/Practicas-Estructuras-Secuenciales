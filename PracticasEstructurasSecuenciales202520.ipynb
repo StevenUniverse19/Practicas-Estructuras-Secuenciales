{
  "nbformat": 4,
  "nbformat_minor": 0,
  "metadata": {
    "colab": {
      "provenance": [],
      "authorship_tag": "ABX9TyO0UDRWMZGhJ/S6IMOVWfBI",
      "include_colab_link": true
    },
    "kernelspec": {
      "name": "python3",
      "display_name": "Python 3"
    },
    "language_info": {
      "name": "python"
    }
  },
  "cells": [
    {
      "cell_type": "markdown",
      "metadata": {
        "id": "view-in-github",
        "colab_type": "text"
      },
      "source": [
        "<a href=\"https://colab.research.google.com/github/StevenUniverse19/Practicas-Estructuras-Secuenciales/blob/main/PracticasEstructurasSecuenciales202520.ipynb\" target=\"_parent\"><img src=\"https://colab.research.google.com/assets/colab-badge.svg\" alt=\"Open In Colab\"/></a>"
      ]
    },
    {
      "cell_type": "markdown",
      "source": [
        "#\n",
        "Curso: Fundamentos de programacion\n",
        "Presentado por: Steven Jimenez Arroyo\n",
        "Email: steven.jimenez@upb.edu.co\n",
        "Fecha: 5 de septiembre de 2025"
      ],
      "metadata": {
        "id": "fbdxWPKzVMfx"
      }
    },
    {
      "cell_type": "markdown",
      "source": [
        "## Informacion Personal\n",
        "Diseña un programa que muestre la siguiente informacion:\n",
        "- Tu nombre\n",
        "- Tu direceccion, con ciudad, estado y codigo postal\n",
        "- Tu numero de telefono\n",
        "- Tu especializacion universitaria\n",
        "  \n",
        "### Pseudocodigo\n",
        "```\n",
        "Program personal_info\n",
        "Start\n",
        "  Declare String name, address, city, state, zip, phone, career\n",
        "  \n",
        "  Display \" Programa de Informacion Personal\"\n",
        "  Display \" Ingrese su nombre : \"\n",
        "  Input name\n",
        "  Display \" Ingrese su direccion :\"\n",
        "  Input address\n",
        "  Display \" Ingrese su ciudad :\"\n",
        "  Imptut city\n",
        "  Display \" Ingrese su Estado :\"\n",
        "  Input estate\n",
        "  Display \" Ingrese su codigo postal :\"\n",
        "  Input zip\n",
        "  Display \" Ingrese su numero de telefono: \"\n",
        "  Input phone\n",
        "  Display \" Ingrese su carrera: \"\n",
        "  Input carrer\n",
        "\n",
        "  Display \" Informacion Personal: \"\n",
        "  Display \"Nombre: \", name\n",
        "  Display \"direccion: \", address\n",
        "  Display \"Ciudad:, city\n",
        "  Display \"Estado:, Estate\n",
        "  Display \"Codigo Postal:, zip\n",
        "  Display \"Numero de Telefono:, phono\n",
        "  Display \"Carrera:, carrer\n",
        "\n",
        "End\n",
        "\n",
        "\n",
        "```"
      ],
      "metadata": {
        "id": "9j1_2DSkVkcp"
      }
    },
    {
      "cell_type": "code",
      "source": [
        "# Program personal_info\n",
        "\n",
        "print (\" Programa de Informacion Personal\")\n",
        "\n",
        "# Variables\n",
        "name = input(\" Ingrese su nombre : \")\n",
        "address = input(\" Ingrese su direccion :\")\n",
        "city = input(\" Ingrese su ciudad :\")\n",
        "state = input(\" Ingrese su Estado :\")\n",
        "zip = input(\" Ingrese su codigo postal :\")\n",
        "phone = input(\" Ingrese su numero de telefono: \")\n",
        "carrer = input(\" Ingrese su carrera: \")\n",
        "\n",
        "print( \" Informacion Personal: \")\n",
        "print(\"Nombre: \", name)\n",
        "print(\"direccion: \", address)\n",
        "print(\"Ciudad:, city)\n",
        "print(\"Estado:, Estate)\n",
        "print(\"Codigo Postal:, zip)\n",
        "print(\"Numero de Telefono:, phono)\n",
        "print (\"Carrera:, carrer)\n",
        "End"
      ],
      "metadata": {
        "id": "wbSHdxAycyxj"
      },
      "execution_count": null,
      "outputs": []
    }
  ]
}